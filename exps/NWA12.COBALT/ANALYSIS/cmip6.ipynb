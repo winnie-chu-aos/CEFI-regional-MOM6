{
 "cells": [
  {
   "cell_type": "code",
   "execution_count": 1,
   "id": "9c8af855-7880-4a1e-8b31-3b941b5fcc06",
   "metadata": {},
   "outputs": [
    {
     "name": "stderr",
     "output_type": "stream",
     "text": [
      "\n",
      "KeyboardInterrupt\n",
      "\n"
     ]
    }
   ],
   "source": [
    "import numpy as np\n",
    "import matplotlib as mpl\n",
    "from matplotlib import rc\n",
    "import matplotlib.pyplot as plt\n",
    "import netCDF4 as nc \n",
    "import pandas as pd \n",
    "import xarray as xr\n",
    "from xgcm import Grid\n",
    "import seaborn as sns\n",
    "import scipy.io\n",
    "import dask\n",
    "import os\n",
    "from dask.distributed import Client\n",
    "%matplotlib inline\n",
    "np.random.seed(4321)\n",
    "plt.rcParams.update({'font.size': 14})\n",
    "# print('all done')\n",
    "client = Client()\n",
    "client"
   ]
  },
  {
   "cell_type": "code",
   "execution_count": 7,
   "id": "4b406fc6-4ad7-4e72-a132-ec10ebac173f",
   "metadata": {},
   "outputs": [
    {
     "name": "stdout",
     "output_type": "stream",
     "text": [
      "Path of the file is Invalid\n"
     ]
    }
   ],
   "source": [
    "### CMIP6 data\n",
    "data_path = '/projects/CDEUTSCH/CMIP6/ACCESS-ESM1-5/ACCESS-ESM1-5_Omon_historical_r1i1p1f1_gr_185001-201412_woagrid.nc'\n",
    "if not os.path.exists(data_path):\n",
    "    print(\"Path of the file is Invalid\")\n",
    "# ds = xr.open_dataset(data_path,chunks='auto')\n",
    "# ds"
   ]
  }
 ],
 "metadata": {
  "kernelspec": {
   "display_name": "xdefault [~/.conda/envs/xdefault/]",
   "language": "python",
   "name": "conda_xdefault"
  },
  "language_info": {
   "codemirror_mode": {
    "name": "ipython",
    "version": 3
   },
   "file_extension": ".py",
   "mimetype": "text/x-python",
   "name": "python",
   "nbconvert_exporter": "python",
   "pygments_lexer": "ipython3",
   "version": "3.13.1"
  }
 },
 "nbformat": 4,
 "nbformat_minor": 5
}
